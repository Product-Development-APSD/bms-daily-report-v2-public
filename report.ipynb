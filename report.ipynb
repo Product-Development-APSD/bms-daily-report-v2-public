{
 "cells": [
  {
   "cell_type": "code",
   "execution_count": 3,
   "metadata": {},
   "outputs": [],
   "source": [
    "import functions\n",
    "\n",
    "import datetime\n",
    "import locale"
   ]
  },
  {
   "cell_type": "code",
   "execution_count": 4,
   "metadata": {},
   "outputs": [
    {
     "name": "stdout",
     "output_type": "stream",
     "text": [
      "Collecting Data Terminal: 1\n",
      "status: finish collecting data 2023-06-08 \n",
      "\n",
      "Collecting Data Terminal: 2\n",
      "status: finish collecting data 2023-06-08 \n",
      "\n",
      "Collecting Data Terminal: 3\n",
      "status: finish collecting data 2023-06-08 \n",
      "\n"
     ]
    }
   ],
   "source": [
    "## Get today's date\n",
    "today = datetime.datetime.today().strftime('%Y-%m-%d')\n",
    "\n",
    "# Set the locale to Indonesian\n",
    "locale.setlocale(locale.LC_ALL, 'id_ID.utf8')\n",
    "# Format the date as per Indonesian locale\n",
    "hari_ini = datetime.date.today().strftime(\"%A, %d %B %Y\")\n",
    "\n",
    "# Collecting data\n",
    "data_t1, df_t1, time_t1, list_ovtime_t1, meanT1, mean_plusT1, mean_minT1 = functions.collect_data(today, 1)\n",
    "data_t2, df_t2, time_t2, list_ovtime_t2, meanT2, mean_plusT2, mean_minT2 = functions.collect_data(today, 2)\n",
    "data_t3, df_t3, time_t3, list_ovtime_t3, meanT3, mean_plusT3, mean_minT3 = functions.collect_data(today, 3)"
   ]
  },
  {
   "cell_type": "code",
   "execution_count": 18,
   "metadata": {},
   "outputs": [
    {
     "name": "stdout",
     "output_type": "stream",
     "text": [
      "\n",
      "\n",
      "== REPORT START HERE ==\n",
      "\n",
      "\n",
      "Assalamu'alaikum warrahmatullahi wabarakatuh\n",
      "Selamat pagi rekan2 semua\n",
      "Izin Chief,  Bu yuni, Bapak/ Ibu leader, dan rekan-rekan semua.\n",
      "izin menginformasikan Daily Report potensi kepadatan penumpang BMS sebagai berikut:\n",
      "\n",
      "*Daily Report Potensi Kepadatan Penumpang BMS*\n",
      "_Kamis, 08 Juni 2023_\n",
      "\n",
      "*TERMINAL 1*\n",
      "Pada pukul 08:00 - 20:00 memiliki jumlah est. jumlah arrival flight yang lebih dari rata-rata, sehingga perlu disiapkan antisipasi pada rentang waktu tersebut.\n",
      "Estimasi lonjakan penumpang terjadi pada pukul: \n",
      "- 08:00\n",
      "- 10:00\n",
      "- 11:00\n",
      "- 12:00\n",
      "- 14:00\n",
      "- 16:00\n",
      "- 17:00\n",
      "Di Terminal 1 pada rentang waktu tersebut  memerlukan perhatian khusus oleh tim yang bertugas.\n",
      "\n",
      "\n",
      "*TERMINAL 2*\n",
      "Pada pukul 07:00 - 19:00 memiliki jumlah est. jumlah arrival flight yang lebih dari rata-rata, sehingga perlu disiapkan antisipasi pada rentang waktu tersebut.\n",
      "Estimasi lonjakan penumpang terjadi pada pukul: \n",
      "- 08:00\n",
      "- 14:00\n",
      "- 15:00\n",
      "Di Terminal 2 pada rentang waktu tersebut  memerlukan perhatian khusus oleh tim yang bertugas.\n",
      "\n",
      "\n",
      "*TERMINAL 3*\n",
      "Pada pukul 07:00 - 22:00 memiliki jumlah est. jumlah arrival flight yang lebih dari rata-rata, sehingga perlu disiapkan antisipasi pada rentang waktu tersebut.\n",
      "Estimasi lonjakan penumpang terjadi pada pukul: \n",
      "- 13:00\n",
      "- 14:00\n",
      "- 18:00\n",
      "- 19:00\n",
      "Di Terminal 3 pada rentang waktu tersebut  memerlukan perhatian khusus oleh tim yang bertugas.\n",
      "\n",
      "\n",
      "Demikian disampaikan, atas perhatian dan perkenannya, diucapkan terimakasih 🙏🏻🙏🏻 \n",
      "Semangat untuk tim yang bertugas! 🫡 🫡 \n",
      "\n",
      "\n",
      "== END REPORT ==\n"
     ]
    }
   ],
   "source": [
    "# Print Report\n",
    "print(\"\\n\\n== REPORT START HERE ==\\n\\n\")\n",
    "print(\n",
    "    \"Assalamu'alaikum warrahmatullahi wabarakatuh\\n\"\n",
    "    \"Selamat pagi rekan2 semua\\n\"\n",
    "    \"Izin Chief,  Bu yuni, Bapak/ Ibu leader, dan rekan-rekan semua.\\n\"\n",
    "    f\"izin menginformasikan Daily Report potensi kepadatan penumpang BMS sebagai berikut:\\n\\n\"\n",
    "    \"*Daily Report Potensi Kepadatan Penumpang BMS*\\n\"\n",
    "    f\"_{hari_ini}_\"\n",
    "    \"\\n\\n\"\n",
    "    \"*TERMINAL 1*\\n\"\n",
    "    f\"Pada pukul {time_t1[0]} - {time_t1[-1]} memiliki jumlah est. jumlah arrival flight yang lebih dari rata-rata, sehingga perlu disiapkan antisipasi pada rentang waktu tersebut.\\n\"\n",
    "    \"Estimasi lonjakan penumpang terjadi pada pukul: \")\n",
    "functions.get_info(df_t1, 1)\n",
    "print(\n",
    "    \"\\n\\n\"\n",
    "    \"*TERMINAL 2*\\n\"\n",
    "    f\"Pada pukul {time_t2[0]} - {time_t2[-1]} memiliki jumlah est. jumlah arrival flight yang lebih dari rata-rata, sehingga perlu disiapkan antisipasi pada rentang waktu tersebut.\\n\"\n",
    "    \"Estimasi lonjakan penumpang terjadi pada pukul: \")\n",
    "functions.get_info(df_t2, 2)\n",
    "print(\n",
    "    \"\\n\\n\"\n",
    "    \"*TERMINAL 3*\\n\"\n",
    "    f\"Pada pukul {time_t3[0]} - {time_t3[-1]} memiliki jumlah est. jumlah arrival flight yang lebih dari rata-rata, sehingga perlu disiapkan antisipasi pada rentang waktu tersebut.\\n\"\n",
    "    \"Estimasi lonjakan penumpang terjadi pada pukul: \")\n",
    "functions.get_info(df_t3, 3)\n",
    "print(\n",
    "    \"\\n\\n\"\n",
    "    \"Demikian disampaikan, atas perhatian dan perkenannya, diucapkan terimakasih \\U0001F64F\\U0001F3FB\\U0001F64F\\U0001F3FB \"\n",
    "    \"\\nSemangat untuk tim yang bertugas! \\U0001FAE1 \\U0001FAE1 \"\n",
    "    \"\\n\\n\"\n",
    ")\n",
    "print(\"== END REPORT ==\")"
   ]
  }
 ],
 "metadata": {
  "kernelspec": {
   "display_name": "Python 3",
   "language": "python",
   "name": "python3"
  },
  "language_info": {
   "codemirror_mode": {
    "name": "ipython",
    "version": 3
   },
   "file_extension": ".py",
   "mimetype": "text/x-python",
   "name": "python",
   "nbconvert_exporter": "python",
   "pygments_lexer": "ipython3",
   "version": "3.11.3"
  },
  "orig_nbformat": 4
 },
 "nbformat": 4,
 "nbformat_minor": 2
}
